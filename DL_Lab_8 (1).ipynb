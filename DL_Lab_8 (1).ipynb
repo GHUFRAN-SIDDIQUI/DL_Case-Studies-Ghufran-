{
  "cells": [
    {
      "cell_type": "markdown",
      "metadata": {
        "id": "v--B9JaKMGzR"
      },
      "source": [
        "# **In this Lab, there is one Exercise at the End. **\n",
        "# **DEADLINE : 26TH NOVEMBER 2024, 11 AM **\n",
        "\n",
        "# **Submission Link:**\n",
        " Form: https://forms.gle/q6yoABQebA5CEiza7"
      ]
    },
    {
      "cell_type": "markdown",
      "metadata": {
        "id": "NDGPAvKwjFQx"
      },
      "source": [
        "An autoencoder, also known as autoassociator or Diabolo networks, is an artificial neural network employed to recreate the given input. It takes a set of unlabeled inputs, encodes them and then tries to extract the most valuable information from them. They are used for feature extraction, learning generative models of data, dimensionality reduction and can be used for compression.\n",
        "\n",
        "Autoencoders are based on Restricted Boltzmann Machines, are employed in some of the largest deep learning applications. They are the building blocks of Deep Belief Networks (DBN).\n",
        "\n",
        "An autoencoder can be divided in two parts, the encoder and the decoder.\n",
        "\n",
        "The encoder needs to compress the representation of an input. In this case we are going to reduce the dimension. The decoder works like encoder network in reverse. It works to recreate the input, as closely as possible. This plays an important role during training, because it forces the autoencoder to select the most important features in the compressed representation."
      ]
    },
    {
      "cell_type": "markdown",
      "metadata": {
        "id": "egadoqpwjFQy"
      },
      "source": [
        "| **Feature**       | **CAEs**                        | **VAEs**                         |\n",
        "|--------------------|----------------------------------|-----------------------------------|\n",
        "| **Objective**      | Reconstruction                  | Generative modeling              |\n",
        "| **Latent Space**   | Deterministic                   | Probabilistic                    |\n",
        "| **Loss Function**  | Reconstruction only             | Reconstruction + KL Divergence   |\n",
        "| **Sampling**       | Not designed for sampling       | Latent space designed for sampling |\n",
        "| **Applications**   | Denoising, feature extraction   | Data generation, synthesis       |\n"
      ]
    },
    {
      "cell_type": "code",
      "execution_count": null,
      "metadata": {
        "collapsed": true,
        "id": "g4Lc-dVzLxUN"
      },
      "outputs": [],
      "source": [
        "import torch\n",
        "import numpy as np\n",
        "from torchvision import datasets\n",
        "import torchvision.transforms as transforms\n",
        "\n",
        "# convert data to torch.FloatTensor\n",
        "transform = transforms.ToTensor()\n",
        "\n",
        "# load the training and test datasets\n",
        "train_data = datasets.MNIST(root='~/.pytorch/MNIST_data/', train=True,\n",
        "                                   download=True, transform=transform)\n",
        "test_data = datasets.MNIST(root='~/.pytorch/MNIST_data/', train=False,\n",
        "                                  download=True, transform=transform)"
      ]
    },
    {
      "cell_type": "code",
      "execution_count": null,
      "metadata": {
        "collapsed": true,
        "id": "tI5pf86ALxUO"
      },
      "outputs": [],
      "source": [
        "# Create training and test dataloaders\n",
        "\n",
        "num_workers = 0\n",
        "# setting num_workers to a positive number would spawn that many data_loader processes, and use the multiple processes created to load the data. This way computation of the main code doesn't stop\n",
        "\n",
        "# how many samples per batch to load\n",
        "batch_size = 20\n",
        "\n",
        "# prepare data loaders\n",
        "train_loader = torch.utils.data.DataLoader(train_data, batch_size=batch_size, num_workers=num_workers)\n",
        "test_loader = torch.utils.data.DataLoader(test_data, batch_size=batch_size, num_workers=num_workers)"
      ]
    },
    {
      "cell_type": "markdown",
      "metadata": {
        "id": "hzma0LTLLxUP"
      },
      "source": [
        "### Visualize the Data"
      ]
    },
    {
      "cell_type": "code",
      "execution_count": null,
      "metadata": {
        "colab": {
          "base_uri": "https://localhost:8080/",
          "height": 462
        },
        "id": "NW-2T-_QLxUP",
        "outputId": "3b71ce26-bf20-4979-e4d8-3addb59d6891"
      },
      "outputs": [
        {
          "data": {
            "text/plain": [
              "<matplotlib.image.AxesImage at 0x7f36201a63d0>"
            ]
          },
          "execution_count": 3,
          "metadata": {},
          "output_type": "execute_result"
        },
        {
          "data": {
            "image/png": "[encoded data removed]",
            "text/plain": [
              "<Figure size 500x500 with 1 Axes>"
            ]
          },
          "metadata": {},
          "output_type": "display_data"
        }
      ],
      "source": [
        "import matplotlib.pyplot as plt\n",
        "%matplotlib inline\n",
        "\n",
        "# obtain one batch of training images\n",
        "dataiter = iter(train_loader)\n",
        "images, labels = next(dataiter) #common mistake is using dataiter.next() which doesn't work anymore\n",
        "images = images.numpy()\n",
        "\n",
        "# get one image from the batch\n",
        "img = np.squeeze(images[0])\n",
        "\n",
        "fig = plt.figure(figsize = (5,5))\n",
        "ax = fig.add_subplot(111)\n",
        "ax.imshow(img, cmap='gray')"
      ]
    },
    {
      "cell_type": "markdown",
      "metadata": {
        "id": "yrCtCh4SOiWX"
      },
      "source": [
        "# **Variational Autoencoders**"
      ]
    },
    {
      "cell_type": "code",
      "execution_count": null,
      "metadata": {
        "id": "OZ11-HWJOhNw"
      },
      "outputs": [],
      "source": [
        "cuda = False\n",
        "DEVICE = torch.device(\"cuda\" if cuda else \"cpu\")\n",
        "\n",
        "\n",
        "batch_size = 100\n",
        "\n",
        "x_dim  = 784\n",
        "hidden_dim = 400\n",
        "latent_dim = 200\n",
        "\n",
        "lr = 1e-3\n",
        "\n",
        "epochs = 30"
      ]
    },
    {
      "cell_type": "code",
      "execution_count": null,
      "metadata": {
        "id": "wUPQwsYNMrEk"
      },
      "outputs": [],
      "source": [
        "class Encoder(nn.Module):\n",
        "\n",
        "    def __init__(self, input_dim, hidden_dim, latent_dim):\n",
        "        super(Encoder, self).__init__()\n",
        "\n",
        "        self.FC_input = nn.Linear(input_dim, hidden_dim)\n",
        "        self.FC_input2 = nn.Linear(hidden_dim, hidden_dim)\n",
        "        self.FC_mean  = nn.Linear(hidden_dim, latent_dim)\n",
        "        self.FC_var   = nn.Linear (hidden_dim, latent_dim)\n",
        "\n",
        "        self.LeakyReLU = nn.LeakyReLU(0.2)\n",
        "\n",
        "        self.training = True\n",
        "\n",
        "    def forward(self, x):\n",
        "        h_       = self.LeakyReLU(self.FC_input(x))\n",
        "        h_       = self.LeakyReLU(self.FC_input2(h_))\n",
        "        mean     = self.FC_mean(h_)\n",
        "        log_var  = self.FC_var(h_)                     # encoder produces mean and log of variance\n",
        "                                                       #             (i.e., parameters of simple tractable normal distribution \"q\"\n",
        "\n",
        "        return mean, log_var"
      ]
    },
    {
      "cell_type": "code",
      "execution_count": null,
      "metadata": {
        "id": "-K36U2okODoA"
      },
      "outputs": [],
      "source": [
        "class Decoder(nn.Module):\n",
        "    def __init__(self, latent_dim, hidden_dim, output_dim):\n",
        "        super(Decoder, self).__init__()\n",
        "        self.FC_hidden = nn.Linear(latent_dim, hidden_dim)\n",
        "        self.FC_hidden2 = nn.Linear(hidden_dim, hidden_dim)\n",
        "        self.FC_output = nn.Linear(hidden_dim, output_dim)\n",
        "\n",
        "        self.LeakyReLU = nn.LeakyReLU(0.2)\n",
        "\n",
        "    def forward(self, x):\n",
        "        h     = self.LeakyReLU(self.FC_hidden(x))\n",
        "        h     = self.LeakyReLU(self.FC_hidden2(h))\n",
        "\n",
        "        x_hat = torch.sigmoid(self.FC_output(h))\n",
        "        return x_hat"
      ]
    },
    {
      "cell_type": "code",
      "execution_count": null,
      "metadata": {
        "id": "sCEo5lQdODk0"
      },
      "outputs": [],
      "source": [
        "class Model(nn.Module):\n",
        "    def __init__(self, Encoder, Decoder):\n",
        "        super(Model, self).__init__()\n",
        "        self.Encoder = Encoder\n",
        "        self.Decoder = Decoder\n",
        "\n",
        "    def reparameterization(self, mean, var):\n",
        "        epsilon = torch.randn_like(var).to(DEVICE)        # sampling epsilon\n",
        "        z = mean + var*epsilon                          # reparameterization trick\n",
        "        return z\n",
        "\n",
        "\n",
        "    def forward(self, x):\n",
        "        mean, log_var = self.Encoder(x)\n",
        "        z = self.reparameterization(mean, torch.exp(0.5 * log_var)) # takes exponential function (log var -> var)\n",
        "        x_hat            = self.Decoder(z)\n",
        "\n",
        "        return x_hat, mean, log_var"
      ]
    },
    {
      "cell_type": "code",
      "execution_count": null,
      "metadata": {
        "id": "K8rFb3tBOJX4"
      },
      "outputs": [],
      "source": [
        "encoder = Encoder(input_dim=x_dim, hidden_dim=hidden_dim, latent_dim=latent_dim)\n",
        "decoder = Decoder(latent_dim=latent_dim, hidden_dim = hidden_dim, output_dim = x_dim)\n",
        "\n",
        "model = Model(Encoder=encoder, Decoder=decoder).to(DEVICE)"
      ]
    },
    {
      "cell_type": "code",
      "execution_count": null,
      "metadata": {
        "id": "c9Ol_hNeOL2P"
      },
      "outputs": [],
      "source": [
        "from torch.optim import Adam\n",
        "\n",
        "BCE_loss = nn.BCELoss()\n",
        "\n",
        "def loss_function(x, x_hat, mean, log_var):\n",
        "    reproduction_loss = nn.functional.binary_cross_entropy(x_hat, x, reduction='sum')\n",
        "    KLD      = - 0.5 * torch.sum(1+ log_var - mean.pow(2) - log_var.exp())\n",
        "\n",
        "    return reproduction_loss + KLD\n",
        "\n",
        "\n",
        "optimizer = Adam(model.parameters(), lr=lr)"
      ]
    },
    {
      "cell_type": "code",
      "execution_count": null,
      "metadata": {
        "colab": {
          "base_uri": "https://localhost:8080/",
          "height": 477
        },
        "id": "Se9DmPlROPlf",
        "outputId": "251d9bfc-8a48-46aa-f1c1-e71fb32195d0"
      },
      "outputs": [
        {
          "name": "stdout",
          "output_type": "stream",
          "text": [
            "Start training VAE...\n",
            "\tEpoch 1 complete! \tAverage Loss:  29.88299013204597\n",
            "\tEpoch 2 complete! \tAverage Loss:  24.237673246225306\n",
            "\tEpoch 3 complete! \tAverage Loss:  23.210719512705406\n",
            "\tEpoch 4 complete! \tAverage Loss:  22.586419849910907\n",
            "\tEpoch 5 complete! \tAverage Loss:  22.23794223115062\n",
            "\tEpoch 6 complete! \tAverage Loss:  22.024677113236965\n",
            "\tEpoch 7 complete! \tAverage Loss:  21.869545449883034\n",
            "\tEpoch 8 complete! \tAverage Loss:  21.762588773894684\n",
            "\tEpoch 9 complete! \tAverage Loss:  21.651400105373668\n",
            "\tEpoch 10 complete! \tAverage Loss:  21.56826337823871\n",
            "\tEpoch 11 complete! \tAverage Loss:  21.507603404422568\n",
            "\tEpoch 12 complete! \tAverage Loss:  21.46146590001029\n",
            "\tEpoch 13 complete! \tAverage Loss:  21.38950726414013\n",
            "\tEpoch 14 complete! \tAverage Loss:  21.355380294815067\n",
            "\tEpoch 15 complete! \tAverage Loss:  21.314221929770863\n",
            "\tEpoch 16 complete! \tAverage Loss:  21.27437966057045\n",
            "\tEpoch 17 complete! \tAverage Loss:  21.23605919298946\n",
            "\tEpoch 18 complete! \tAverage Loss:  21.219308777160748\n",
            "\tEpoch 19 complete! \tAverage Loss:  21.19294992495871\n",
            "\tEpoch 20 complete! \tAverage Loss:  21.16384069470097\n",
            "\tEpoch 21 complete! \tAverage Loss:  21.13814187655651\n",
            "\tEpoch 22 complete! \tAverage Loss:  21.126553442211858\n",
            "\tEpoch 23 complete! \tAverage Loss:  21.10094924504457\n",
            "\tEpoch 24 complete! \tAverage Loss:  21.09871491669098\n",
            "\tEpoch 25 complete! \tAverage Loss:  21.065582115832232\n",
            "\tEpoch 26 complete! \tAverage Loss:  21.04916720002045\n",
            "\tEpoch 27 complete! \tAverage Loss:  21.04200006366054\n",
            "\tEpoch 28 complete! \tAverage Loss:  21.027712303840865\n",
            "\tEpoch 29 complete! \tAverage Loss:  21.010730605677153\n",
            "\tEpoch 30 complete! \tAverage Loss:  20.995890869873293\n"
          ]
        }
      ],
      "source": [
        "print(\"Start training VAE...\")\n",
        "model.train()\n",
        "\n",
        "for epoch in range(epochs):\n",
        "    overall_loss = 0\n",
        "    for batch_idx, (x, _) in enumerate(train_loader):\n",
        "        x = x.view(-1, 784)\n",
        "        x = x.to(DEVICE)\n",
        "\n",
        "        optimizer.zero_grad()\n",
        "\n",
        "        x_hat, mean, log_var = model(x)\n",
        "        loss = loss_function(x, x_hat, mean, log_var)\n",
        "\n",
        "        overall_loss += loss.item()\n",
        "\n",
        "        loss.backward()\n",
        "        optimizer.step()\n",
        "\n",
        "    print(\"\\tEpoch\", epoch + 1, \"complete!\", \"\\tAverage Loss: \", overall_loss / (batch_idx*batch_size))"
      ]
    },
    {
      "cell_type": "markdown",
      "metadata": {
        "id": "1_N0N9RhOXmq"
      },
      "source": [
        "Generating images from noise"
      ]
    },
    {
      "cell_type": "code",
      "execution_count": null,
      "metadata": {
        "id": "-Trh-NYKOWrR"
      },
      "outputs": [],
      "source": [
        "with torch.no_grad():\n",
        "    noise = torch.randn(batch_size, latent_dim).to(DEVICE)\n",
        "    generated_images = decoder(noise)"
      ]
    },
    {
      "cell_type": "code",
      "execution_count": null,
      "metadata": {
        "id": "FVV06wJISU30"
      },
      "outputs": [],
      "source": [
        "def show_image(x, idx):\n",
        "    x = x.view(batch_size, 28, 28)\n",
        "\n",
        "    fig = plt.figure()\n",
        "    plt.imshow(x[idx].cpu().numpy())"
      ]
    },
    {
      "cell_type": "code",
      "execution_count": null,
      "metadata": {
        "colab": {
          "base_uri": "https://localhost:8080/",
          "height": 430
        },
        "id": "Guj1ibgGOarg",
        "outputId": "86c99ed6-f085-4934-ffdf-164128f13451"
      },
      "outputs": [
        {
          "data": {
            "image/png": "[encoded data removed]",
            "text/plain": [
              "<Figure size 640x480 with 1 Axes>"
            ]
          },
          "metadata": {},
          "output_type": "display_data"
        }
      ],
      "source": [
        "show_image(generated_images, idx=12)\n"
      ]
    },
    {
      "cell_type": "code",
      "execution_count": null,
      "metadata": {
        "id": "bcORUV33SV0N",
        "outputId": "f78abdcd-977c-489c-ea3d-2641c24464e3"
      },
      "outputs": [
        {
          "data": {
            "image/png": "[encoded data removed]",
            "text/plain": [
              "<Figure size 640x480 with 1 Axes>"
            ]
          },
          "metadata": {},
          "output_type": "display_data"
        }
      ],
      "source": [
        "show_image(generated_images, idx=10)\n"
      ]
    },
    {
      "cell_type": "code",
      "execution_count": null,
      "metadata": {
        "id": "9tLqt4kBjFQ9",
        "outputId": "30522fd7-6227-43cc-ca12-70e667ced624"
      },
      "outputs": [
        {
          "data": {
            "image/png": "[encoded data removed]",
            "text/plain": [
              "<Figure size 640x480 with 1 Axes>"
            ]
          },
          "metadata": {},
          "output_type": "display_data"
        }
      ],
      "source": [
        "show_image(generated_images, idx=16)\n"
      ]
    },
    {
      "cell_type": "markdown",
      "metadata": {
        "id": "9JOxWw8wjogI"
      },
      "source": [
        "#Exercise: Modify the code to explore the effects of different types of noise in the latent space. Use two noise types other than the default Gaussian noise (torch.randn)\n",
        "\n",
        "#For each noise type:\n",
        "\n",
        "#Generate images from the decoder.\n",
        "#Visualize and compare the generated images.\n",
        "\n",
        "Use Poisson Noise and Uniform Noise for image generation."
      ]
    }
  ],
  "metadata": {
    "colab": {
      "provenance": []
    },
    "kernelspec": {
      "display_name": "Python 3",
      "language": "python",
      "name": "python3"
    },
    "language_info": {
      "codemirror_mode": {
        "name": "ipython",
        "version": 3
      },
      "file_extension": ".py",
      "mimetype": "text/x-python",
      "name": "python",
      "nbconvert_exporter": "python",
      "pygments_lexer": "ipython3",
      "version": "3.11.4"
    }
  },
  "nbformat": 4,
  "nbformat_minor": 0
}